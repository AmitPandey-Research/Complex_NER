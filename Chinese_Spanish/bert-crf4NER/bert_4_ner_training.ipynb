{
  "nbformat": 4,
  "nbformat_minor": 0,
  "metadata": {
    "colab": {
      "name": "bert_4_ner_training.ipynb",
      "provenance": [],
      "collapsed_sections": []
    },
    "kernelspec": {
      "name": "python3",
      "display_name": "Python 3"
    },
    "accelerator": "GPU"
  },
  "cells": [
    {
      "cell_type": "code",
      "metadata": {
        "id": "aXAjWkK29Gdk",
        "colab_type": "code",
        "outputId": "db78eae2-b97c-40e0-b869-c21c6c2f300c",
        "colab": {
          "base_uri": "https://localhost:8080/",
          "height": 119
        }
      },
      "source": [
        "#clone the project from the github\n",
        "!git clone https://github.com/Dhanachandra/bert-crf4NER.git"
      ],
      "execution_count": 1,
      "outputs": [
        {
          "output_type": "stream",
          "text": [
            "Cloning into 'bert-crf4NER'...\n",
            "remote: Enumerating objects: 72, done.\u001b[K\n",
            "remote: Counting objects: 100% (72/72), done.\u001b[K\n",
            "remote: Compressing objects: 100% (39/39), done.\u001b[K\n",
            "remote: Total 72 (delta 32), reused 71 (delta 31), pack-reused 0\u001b[K\n",
            "Unpacking objects: 100% (72/72), done.\n"
          ],
          "name": "stdout"
        }
      ]
    },
    {
      "cell_type": "code",
      "metadata": {
        "id": "S1gwEcG3-HLG",
        "colab_type": "code",
        "outputId": "05b4296b-90e6-4ed0-af45-3bba9c2db56d",
        "colab": {
          "base_uri": "https://localhost:8080/",
          "height": 1000
        }
      },
      "source": [
        "\n",
        "!pip install -r /content/bert-crf4NER/requirements.txt"
      ],
      "execution_count": 3,
      "outputs": [
        {
          "output_type": "stream",
          "text": [
            "Collecting transformers==2.3.0\n",
            "\u001b[?25l  Downloading https://files.pythonhosted.org/packages/50/10/aeefced99c8a59d828a92cc11d213e2743212d3641c87c82d61b035a7d5c/transformers-2.3.0-py3-none-any.whl (447kB)\n",
            "\u001b[K     |████████████████████████████████| 450kB 2.7MB/s \n",
            "\u001b[?25hCollecting pytorch-crf==0.7.2\n",
            "  Downloading https://files.pythonhosted.org/packages/96/7d/4c4688e26ea015fc118a0327e5726e6596836abce9182d3738be8ec2e32a/pytorch_crf-0.7.2-py3-none-any.whl\n",
            "Collecting nltk==3.4.5\n",
            "\u001b[?25l  Downloading https://files.pythonhosted.org/packages/f6/1d/d925cfb4f324ede997f6d47bea4d9babba51b49e87a767c170b77005889d/nltk-3.4.5.zip (1.5MB)\n",
            "\u001b[K     |████████████████████████████████| 1.5MB 9.0MB/s \n",
            "\u001b[?25hCollecting spacy==2.2.3\n",
            "\u001b[?25l  Downloading https://files.pythonhosted.org/packages/47/13/80ad28ef7a16e2a86d16d73e28588be5f1085afd3e85e4b9b912bd700e8a/spacy-2.2.3-cp36-cp36m-manylinux1_x86_64.whl (10.4MB)\n",
            "\u001b[K     |████████████████████████████████| 10.4MB 21.0MB/s \n",
            "\u001b[?25hCollecting sentencepiece\n",
            "\u001b[?25l  Downloading https://files.pythonhosted.org/packages/74/f4/2d5214cbf13d06e7cb2c20d84115ca25b53ea76fa1f0ade0e3c9749de214/sentencepiece-0.1.85-cp36-cp36m-manylinux1_x86_64.whl (1.0MB)\n",
            "\u001b[K     |████████████████████████████████| 1.0MB 48.5MB/s \n",
            "\u001b[?25hRequirement already satisfied: tqdm in /usr/local/lib/python3.6/dist-packages (from transformers==2.3.0->-r /content/bert-crf4NER/requirements.txt (line 1)) (4.28.1)\n",
            "Requirement already satisfied: regex!=2019.12.17 in /usr/local/lib/python3.6/dist-packages (from transformers==2.3.0->-r /content/bert-crf4NER/requirements.txt (line 1)) (2019.12.20)\n",
            "Requirement already satisfied: numpy in /usr/local/lib/python3.6/dist-packages (from transformers==2.3.0->-r /content/bert-crf4NER/requirements.txt (line 1)) (1.17.5)\n",
            "Requirement already satisfied: requests in /usr/local/lib/python3.6/dist-packages (from transformers==2.3.0->-r /content/bert-crf4NER/requirements.txt (line 1)) (2.21.0)\n",
            "Requirement already satisfied: boto3 in /usr/local/lib/python3.6/dist-packages (from transformers==2.3.0->-r /content/bert-crf4NER/requirements.txt (line 1)) (1.10.47)\n",
            "Collecting sacremoses\n",
            "\u001b[?25l  Downloading https://files.pythonhosted.org/packages/a6/b4/7a41d630547a4afd58143597d5a49e07bfd4c42914d8335b2a5657efc14b/sacremoses-0.0.38.tar.gz (860kB)\n",
            "\u001b[K     |████████████████████████████████| 870kB 36.1MB/s \n",
            "\u001b[?25hRequirement already satisfied: six in /usr/local/lib/python3.6/dist-packages (from nltk==3.4.5->-r /content/bert-crf4NER/requirements.txt (line 3)) (1.12.0)\n",
            "Requirement already satisfied: wasabi<1.1.0,>=0.4.0 in /usr/local/lib/python3.6/dist-packages (from spacy==2.2.3->-r /content/bert-crf4NER/requirements.txt (line 4)) (0.6.0)\n",
            "Requirement already satisfied: murmurhash<1.1.0,>=0.28.0 in /usr/local/lib/python3.6/dist-packages (from spacy==2.2.3->-r /content/bert-crf4NER/requirements.txt (line 4)) (1.0.2)\n",
            "Requirement already satisfied: setuptools in /usr/local/lib/python3.6/dist-packages (from spacy==2.2.3->-r /content/bert-crf4NER/requirements.txt (line 4)) (42.0.2)\n",
            "Collecting preshed<3.1.0,>=3.0.2\n",
            "\u001b[?25l  Downloading https://files.pythonhosted.org/packages/db/6b/e07fad36913879757c90ba03d6fb7f406f7279e11dcefc105ee562de63ea/preshed-3.0.2-cp36-cp36m-manylinux1_x86_64.whl (119kB)\n",
            "\u001b[K     |████████████████████████████████| 122kB 44.5MB/s \n",
            "\u001b[?25hRequirement already satisfied: cymem<2.1.0,>=2.0.2 in /usr/local/lib/python3.6/dist-packages (from spacy==2.2.3->-r /content/bert-crf4NER/requirements.txt (line 4)) (2.0.3)\n",
            "Requirement already satisfied: srsly<1.1.0,>=0.1.0 in /usr/local/lib/python3.6/dist-packages (from spacy==2.2.3->-r /content/bert-crf4NER/requirements.txt (line 4)) (1.0.1)\n",
            "Requirement already satisfied: plac<1.2.0,>=0.9.6 in /usr/local/lib/python3.6/dist-packages (from spacy==2.2.3->-r /content/bert-crf4NER/requirements.txt (line 4)) (0.9.6)\n",
            "Collecting blis<0.5.0,>=0.4.0\n",
            "\u001b[?25l  Downloading https://files.pythonhosted.org/packages/41/19/f95c75562d18eb27219df3a3590b911e78d131b68466ad79fdf5847eaac4/blis-0.4.1-cp36-cp36m-manylinux1_x86_64.whl (3.7MB)\n",
            "\u001b[K     |████████████████████████████████| 3.7MB 39.3MB/s \n",
            "\u001b[?25hCollecting catalogue<1.1.0,>=0.0.7\n",
            "  Downloading https://files.pythonhosted.org/packages/6c/f9/9a5658e2f56932e41eb264941f9a2cb7f3ce41a80cb36b2af6ab78e2f8af/catalogue-1.0.0-py2.py3-none-any.whl\n",
            "Collecting thinc<7.4.0,>=7.3.0\n",
            "\u001b[?25l  Downloading https://files.pythonhosted.org/packages/07/59/6bb553bc9a5f072d3cd479fc939fea0f6f682892f1f5cff98de5c9b615bb/thinc-7.3.1-cp36-cp36m-manylinux1_x86_64.whl (2.2MB)\n",
            "\u001b[K     |████████████████████████████████| 2.2MB 22.1MB/s \n",
            "\u001b[?25hRequirement already satisfied: chardet<3.1.0,>=3.0.2 in /usr/local/lib/python3.6/dist-packages (from requests->transformers==2.3.0->-r /content/bert-crf4NER/requirements.txt (line 1)) (3.0.4)\n",
            "Requirement already satisfied: certifi>=2017.4.17 in /usr/local/lib/python3.6/dist-packages (from requests->transformers==2.3.0->-r /content/bert-crf4NER/requirements.txt (line 1)) (2019.11.28)\n",
            "Requirement already satisfied: urllib3<1.25,>=1.21.1 in /usr/local/lib/python3.6/dist-packages (from requests->transformers==2.3.0->-r /content/bert-crf4NER/requirements.txt (line 1)) (1.24.3)\n",
            "Requirement already satisfied: idna<2.9,>=2.5 in /usr/local/lib/python3.6/dist-packages (from requests->transformers==2.3.0->-r /content/bert-crf4NER/requirements.txt (line 1)) (2.8)\n",
            "Requirement already satisfied: jmespath<1.0.0,>=0.7.1 in /usr/local/lib/python3.6/dist-packages (from boto3->transformers==2.3.0->-r /content/bert-crf4NER/requirements.txt (line 1)) (0.9.4)\n",
            "Requirement already satisfied: botocore<1.14.0,>=1.13.47 in /usr/local/lib/python3.6/dist-packages (from boto3->transformers==2.3.0->-r /content/bert-crf4NER/requirements.txt (line 1)) (1.13.47)\n",
            "Requirement already satisfied: s3transfer<0.3.0,>=0.2.0 in /usr/local/lib/python3.6/dist-packages (from boto3->transformers==2.3.0->-r /content/bert-crf4NER/requirements.txt (line 1)) (0.2.1)\n",
            "Requirement already satisfied: click in /usr/local/lib/python3.6/dist-packages (from sacremoses->transformers==2.3.0->-r /content/bert-crf4NER/requirements.txt (line 1)) (7.0)\n",
            "Requirement already satisfied: joblib in /usr/local/lib/python3.6/dist-packages (from sacremoses->transformers==2.3.0->-r /content/bert-crf4NER/requirements.txt (line 1)) (0.14.1)\n",
            "Requirement already satisfied: importlib-metadata>=0.20; python_version < \"3.8\" in /usr/local/lib/python3.6/dist-packages (from catalogue<1.1.0,>=0.0.7->spacy==2.2.3->-r /content/bert-crf4NER/requirements.txt (line 4)) (1.3.0)\n",
            "Requirement already satisfied: docutils<0.16,>=0.10 in /usr/local/lib/python3.6/dist-packages (from botocore<1.14.0,>=1.13.47->boto3->transformers==2.3.0->-r /content/bert-crf4NER/requirements.txt (line 1)) (0.15.2)\n",
            "Requirement already satisfied: python-dateutil<3.0.0,>=2.1; python_version >= \"2.7\" in /usr/local/lib/python3.6/dist-packages (from botocore<1.14.0,>=1.13.47->boto3->transformers==2.3.0->-r /content/bert-crf4NER/requirements.txt (line 1)) (2.6.1)\n",
            "Requirement already satisfied: zipp>=0.5 in /usr/local/lib/python3.6/dist-packages (from importlib-metadata>=0.20; python_version < \"3.8\"->catalogue<1.1.0,>=0.0.7->spacy==2.2.3->-r /content/bert-crf4NER/requirements.txt (line 4)) (0.6.0)\n",
            "Requirement already satisfied: more-itertools in /usr/local/lib/python3.6/dist-packages (from zipp>=0.5->importlib-metadata>=0.20; python_version < \"3.8\"->catalogue<1.1.0,>=0.0.7->spacy==2.2.3->-r /content/bert-crf4NER/requirements.txt (line 4)) (8.0.2)\n",
            "Building wheels for collected packages: nltk, sacremoses\n",
            "  Building wheel for nltk (setup.py) ... \u001b[?25l\u001b[?25hdone\n",
            "  Created wheel for nltk: filename=nltk-3.4.5-cp36-none-any.whl size=1449907 sha256=c728568310db5bc363266fd69fa9c25968a0bceb7a75d415c871dc38d4e24d2f\n",
            "  Stored in directory: /root/.cache/pip/wheels/96/86/f6/68ab24c23f207c0077381a5e3904b2815136b879538a24b483\n",
            "  Building wheel for sacremoses (setup.py) ... \u001b[?25l\u001b[?25hdone\n",
            "  Created wheel for sacremoses: filename=sacremoses-0.0.38-cp36-none-any.whl size=884629 sha256=63c8ec496f242720dc32e91a48b6cc99bbd84d4c4aa86e7423a65e75c097109f\n",
            "  Stored in directory: /root/.cache/pip/wheels/6d/ec/1a/21b8912e35e02741306f35f66c785f3afe94de754a0eaf1422\n",
            "Successfully built nltk sacremoses\n",
            "Installing collected packages: sentencepiece, sacremoses, transformers, pytorch-crf, nltk, preshed, blis, catalogue, thinc, spacy\n",
            "  Found existing installation: nltk 3.2.5\n",
            "    Uninstalling nltk-3.2.5:\n",
            "      Successfully uninstalled nltk-3.2.5\n",
            "  Found existing installation: preshed 2.0.1\n",
            "    Uninstalling preshed-2.0.1:\n",
            "      Successfully uninstalled preshed-2.0.1\n",
            "  Found existing installation: blis 0.2.4\n",
            "    Uninstalling blis-0.2.4:\n",
            "      Successfully uninstalled blis-0.2.4\n",
            "  Found existing installation: thinc 7.0.8\n",
            "    Uninstalling thinc-7.0.8:\n",
            "      Successfully uninstalled thinc-7.0.8\n",
            "  Found existing installation: spacy 2.1.9\n",
            "    Uninstalling spacy-2.1.9:\n",
            "      Successfully uninstalled spacy-2.1.9\n",
            "Successfully installed blis-0.4.1 catalogue-1.0.0 nltk-3.4.5 preshed-3.0.2 pytorch-crf-0.7.2 sacremoses-0.0.38 sentencepiece-0.1.85 spacy-2.2.3 thinc-7.3.1 transformers-2.3.0\n"
          ],
          "name": "stdout"
        }
      ]
    },
    {
      "cell_type": "code",
      "metadata": {
        "id": "RNAsTNX9-Al-",
        "colab_type": "code",
        "outputId": "590fcf23-b793-4d28-c9b8-93561913f958",
        "colab": {
          "base_uri": "https://localhost:8080/",
          "height": 34
        }
      },
      "source": [
        "%cd /content/bert-crf4NER/bert-crf4NER"
      ],
      "execution_count": 11,
      "outputs": [
        {
          "output_type": "stream",
          "text": [
            "/content/bert-crf4NER/bert-crf4NER\n"
          ],
          "name": "stdout"
        }
      ]
    },
    {
      "cell_type": "code",
      "metadata": {
        "id": "LFW7yKMgAss_",
        "colab_type": "code",
        "outputId": "5897ce1e-1f88-4f85-f7db-a2d2ce1f8798",
        "colab": {
          "base_uri": "https://localhost:8080/",
          "height": 1000
        }
      },
      "source": [
        "!python bert_NER.py --mode train"
      ],
      "execution_count": 30,
      "outputs": [
        {
          "output_type": "stream",
          "text": [
            "\rEpoch:   0% 0/5 [00:00<?, ?it/s]\n",
            "2020-01-13 07:16:42.113193 Step: 1 of 937 Loss: 2.237724\n",
            "2020-01-13 07:16:56.210945 Step: 100 of 937 Loss: 0.035768\n",
            "2020-01-13 07:17:10.524653 Step: 200 of 937 Loss: 0.011838\n",
            "2020-01-13 07:17:24.698319 Step: 300 of 937 Loss: 0.009693\n",
            "2020-01-13 07:17:39.240150 Step: 400 of 937 Loss: 0.007191\n",
            "2020-01-13 07:17:53.560045 Step: 500 of 937 Loss: 0.007006\n",
            "2020-01-13 07:18:08.135034 Step: 600 of 937 Loss: 0.005889\n",
            "2020-01-13 07:18:22.403250 Step: 700 of 937 Loss: 0.005651\n",
            "2020-01-13 07:18:37.130989 Step: 800 of 937 Loss: 0.005455\n",
            "2020-01-13 07:18:51.359606 Step: 900 of 937 Loss: 0.004925\n",
            "Training Loss: 0.102113 for epoch 0\n",
            "Epoch:  0\n",
            "processed 55042 tokens with 5942 phrases; found: 5977 phrases; correct: 5315.\n",
            "accuracy:  90.22%; (non-O)\n",
            "accuracy:  98.18%; precision:  88.92%; recall:  89.45%; FB1:  89.19%\n",
            "              LOC: precision:  88.76%; recall:  94.12%; FB1:  91.36%  1948\n",
            "             MISC: precision:  86.26%; recall:  80.37%; FB1:  83.21%  859\n",
            "              ORG: precision:  83.40%; recall:  80.16%; FB1:  81.75%  1289\n",
            "              PER: precision:  94.10%; recall:  96.09%; FB1:  95.08%  1881\n",
            "\n",
            "Epoch:  20% 1/5 [02:28<09:55, 148.95s/it]\n",
            "2020-01-13 07:19:11.076100 Step: 1 of 937 Loss: 0.041774\n",
            "2020-01-13 07:19:25.416404 Step: 100 of 937 Loss: 0.002974\n",
            "2020-01-13 07:19:39.687716 Step: 200 of 937 Loss: 0.003217\n",
            "2020-01-13 07:19:54.197953 Step: 300 of 937 Loss: 0.002964\n",
            "2020-01-13 07:20:08.628491 Step: 400 of 937 Loss: 0.002624\n",
            "2020-01-13 07:20:22.805966 Step: 500 of 937 Loss: 0.002771\n",
            "2020-01-13 07:20:37.278749 Step: 600 of 937 Loss: 0.002655\n",
            "2020-01-13 07:20:51.938230 Step: 700 of 937 Loss: 0.002625\n",
            "2020-01-13 07:21:06.909775 Step: 800 of 937 Loss: 0.002561\n",
            "2020-01-13 07:21:21.559714 Step: 900 of 937 Loss: 0.002630\n",
            "Training Loss: 0.027676 for epoch 1\n",
            "Epoch:  1\n",
            "processed 55042 tokens with 5942 phrases; found: 5965 phrases; correct: 5423.\n",
            "accuracy:  92.80%; (non-O)\n",
            "accuracy:  98.50%; precision:  90.91%; recall:  91.27%; FB1:  91.09%\n",
            "              LOC: precision:  92.69%; recall:  94.61%; FB1:  93.64%  1875\n",
            "             MISC: precision:  87.75%; recall:  80.80%; FB1:  84.13%  849\n",
            "              ORG: precision:  84.18%; recall:  87.32%; FB1:  85.72%  1391\n",
            "              PER: precision:  95.62%; recall:  96.04%; FB1:  95.83%  1850\n",
            "\n",
            "Epoch:  40% 2/5 [04:59<07:28, 149.45s/it]\n",
            "2020-01-13 07:21:41.718233 Step: 1 of 937 Loss: 0.003180\n",
            "2020-01-13 07:21:56.560169 Step: 100 of 937 Loss: 0.001457\n",
            "2020-01-13 07:22:11.296424 Step: 200 of 937 Loss: 0.001351\n",
            "2020-01-13 07:22:26.116181 Step: 300 of 937 Loss: 0.001394\n",
            "2020-01-13 07:22:40.929788 Step: 400 of 937 Loss: 0.001256\n",
            "2020-01-13 07:22:55.720984 Step: 500 of 937 Loss: 0.001522\n",
            "2020-01-13 07:23:10.981749 Step: 600 of 937 Loss: 0.001278\n",
            "2020-01-13 07:23:25.716320 Step: 700 of 937 Loss: 0.001369\n",
            "2020-01-13 07:23:40.129385 Step: 800 of 937 Loss: 0.001194\n",
            "2020-01-13 07:23:55.281965 Step: 900 of 937 Loss: 0.001488\n",
            "Training Loss: 0.013585 for epoch 2\n",
            "Epoch:  2\n",
            "processed 55042 tokens with 5942 phrases; found: 5957 phrases; correct: 5424.\n",
            "accuracy:  92.27%; (non-O)\n",
            "accuracy:  98.54%; precision:  91.05%; recall:  91.28%; FB1:  91.17%\n",
            "              LOC: precision:  91.97%; recall:  94.83%; FB1:  93.38%  1894\n",
            "             MISC: precision:  87.41%; recall:  83.62%; FB1:  85.48%  882\n",
            "              ORG: precision:  85.33%; recall:  85.46%; FB1:  85.39%  1343\n",
            "              PER: precision:  96.03%; recall:  95.82%; FB1:  95.92%  1838\n",
            "\n",
            "Epoch:  60% 3/5 [07:33<05:01, 150.78s/it]\n",
            "2020-01-13 07:24:15.535731 Step: 1 of 937 Loss: 0.006378\n",
            "2020-01-13 07:24:30.091316 Step: 100 of 937 Loss: 0.000678\n",
            "2020-01-13 07:24:45.155379 Step: 200 of 937 Loss: 0.000779\n",
            "2020-01-13 07:24:59.956186 Step: 300 of 937 Loss: 0.000636\n",
            "2020-01-13 07:25:14.784620 Step: 400 of 937 Loss: 0.000721\n",
            "2020-01-13 07:25:30.021587 Step: 500 of 937 Loss: 0.000797\n",
            "2020-01-13 07:25:44.806283 Step: 600 of 937 Loss: 0.000640\n",
            "2020-01-13 07:25:59.751361 Step: 700 of 937 Loss: 0.000574\n",
            "2020-01-13 07:26:14.372822 Step: 800 of 937 Loss: 0.000620\n",
            "2020-01-13 07:26:29.291314 Step: 900 of 937 Loss: 0.000749\n",
            "Training Loss: 0.006845 for epoch 3\n",
            "Epoch:  3\n",
            "processed 55042 tokens with 5942 phrases; found: 5966 phrases; correct: 5419.\n",
            "accuracy:  92.51%; (non-O)\n",
            "accuracy:  98.53%; precision:  90.83%; recall:  91.20%; FB1:  91.01%\n",
            "              LOC: precision:  93.89%; recall:  93.74%; FB1:  93.82%  1834\n",
            "             MISC: precision:  85.89%; recall:  83.19%; FB1:  84.52%  893\n",
            "              ORG: precision:  82.69%; recall:  89.78%; FB1:  86.09%  1456\n",
            "              PER: precision:  96.80%; recall:  93.70%; FB1:  95.23%  1783\n",
            "\n",
            "Epoch:  80% 4/5 [10:07<02:31, 151.69s/it]\n",
            "2020-01-13 07:26:49.376768 Step: 1 of 937 Loss: 0.000581\n",
            "2020-01-13 07:27:04.352066 Step: 100 of 937 Loss: 0.000312\n",
            "2020-01-13 07:27:19.473169 Step: 200 of 937 Loss: 0.000515\n",
            "2020-01-13 07:27:34.308441 Step: 300 of 937 Loss: 0.000440\n",
            "2020-01-13 07:27:49.244468 Step: 400 of 937 Loss: 0.000404\n",
            "2020-01-13 07:28:04.148440 Step: 500 of 937 Loss: 0.000298\n",
            "2020-01-13 07:28:19.040565 Step: 600 of 937 Loss: 0.000464\n",
            "2020-01-13 07:28:33.946260 Step: 700 of 937 Loss: 0.000445\n",
            "2020-01-13 07:28:48.356131 Step: 800 of 937 Loss: 0.000378\n",
            "2020-01-13 07:29:03.106064 Step: 900 of 937 Loss: 0.000323\n",
            "Training Loss: 0.003974 for epoch 4\n",
            "Epoch:  4\n",
            "processed 55042 tokens with 5942 phrases; found: 5958 phrases; correct: 5467.\n",
            "accuracy:  93.08%; (non-O)\n",
            "accuracy:  98.63%; precision:  91.76%; recall:  92.01%; FB1:  91.88%\n",
            "              LOC: precision:  93.52%; recall:  94.23%; FB1:  93.87%  1851\n",
            "             MISC: precision:  87.19%; recall:  84.16%; FB1:  85.65%  890\n",
            "              ORG: precision:  87.04%; recall:  88.14%; FB1:  87.59%  1358\n",
            "              PER: precision:  95.64%; recall:  96.53%; FB1:  96.08%  1859\n",
            "\n",
            "Epoch: 100% 5/5 [12:41<00:00, 152.38s/it]\n",
            "Total training time:  761.2355004749998\n",
            "<Figure size 640x480 with 1 Axes>\n"
          ],
          "name": "stdout"
        }
      ]
    },
    {
      "cell_type": "code",
      "metadata": {
        "id": "RhHlRqfc0SP_",
        "colab_type": "code",
        "colab": {
          "base_uri": "https://localhost:8080/",
          "height": 190
        },
        "outputId": "19c25521-e69e-4906-d03c-19ec8290a0be"
      },
      "source": [
        "!python bert_NER.py --mode test"
      ],
      "execution_count": 32,
      "outputs": [
        {
          "output_type": "stream",
          "text": [
            "test len:  217\n",
            "processed 55042 tokens with 5942 phrases; found: 5958 phrases; correct: 5467.\n",
            "accuracy:  93.08%; (non-O)\n",
            "accuracy:  98.63%; precision:  91.76%; recall:  92.01%; FB1:  91.88%\n",
            "              LOC: precision:  93.52%; recall:  94.23%; FB1:  93.87%  1851\n",
            "             MISC: precision:  87.19%; recall:  84.16%; FB1:  85.65%  890\n",
            "              ORG: precision:  87.04%; recall:  88.14%; FB1:  87.59%  1358\n",
            "              PER: precision:  95.64%; recall:  96.53%; FB1:  96.08%  1859\n",
            "\n"
          ],
          "name": "stdout"
        }
      ]
    }
  ]
}