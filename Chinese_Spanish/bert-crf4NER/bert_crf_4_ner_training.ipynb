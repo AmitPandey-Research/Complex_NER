{
  "nbformat": 4,
  "nbformat_minor": 0,
  "metadata": {
    "colab": {
      "name": "bert_crf_4_ner_training.ipynb",
      "provenance": [],
      "collapsed_sections": []
    },
    "kernelspec": {
      "name": "python3",
      "display_name": "Python 3"
    },
    "accelerator": "GPU"
  },
  "cells": [
    {
      "cell_type": "code",
      "metadata": {
        "id": "aXAjWkK29Gdk",
        "colab_type": "code",
        "outputId": "3b709495-16d3-461a-ceec-d6fd4ac94f27",
        "colab": {
          "base_uri": "https://localhost:8080/",
          "height": 119
        }
      },
      "source": [
        "#clone the project from the github\n",
        "!git clone https://github.com/Dhanachandra/bert-crf4NER.git"
      ],
      "execution_count": 1,
      "outputs": [
        {
          "output_type": "stream",
          "text": [
            "Cloning into 'bert-crf4NER'...\n",
            "remote: Enumerating objects: 79, done.\u001b[K\n",
            "remote: Counting objects:   1% (1/79)\u001b[K\rremote: Counting objects:   2% (2/79)\u001b[K\rremote: Counting objects:   3% (3/79)\u001b[K\rremote: Counting objects:   5% (4/79)\u001b[K\rremote: Counting objects:   6% (5/79)\u001b[K\rremote: Counting objects:   7% (6/79)\u001b[K\rremote: Counting objects:   8% (7/79)\u001b[K\rremote: Counting objects:  10% (8/79)\u001b[K\rremote: Counting objects:  11% (9/79)\u001b[K\rremote: Counting objects:  12% (10/79)\u001b[K\rremote: Counting objects:  13% (11/79)\u001b[K\rremote: Counting objects:  15% (12/79)\u001b[K\rremote: Counting objects:  16% (13/79)\u001b[K\rremote: Counting objects:  17% (14/79)\u001b[K\rremote: Counting objects:  18% (15/79)\u001b[K\rremote: Counting objects:  20% (16/79)\u001b[K\rremote: Counting objects:  21% (17/79)\u001b[K\rremote: Counting objects:  22% (18/79)\u001b[K\rremote: Counting objects:  24% (19/79)\u001b[K\rremote: Counting objects:  25% (20/79)\u001b[K\rremote: Counting objects:  26% (21/79)\u001b[K\rremote: Counting objects:  27% (22/79)\u001b[K\rremote: Counting objects:  29% (23/79)\u001b[K\rremote: Counting objects:  30% (24/79)\u001b[K\rremote: Counting objects:  31% (25/79)\u001b[K\rremote: Counting objects:  32% (26/79)\u001b[K\rremote: Counting objects:  34% (27/79)\u001b[K\rremote: Counting objects:  35% (28/79)\u001b[K\rremote: Counting objects:  36% (29/79)\u001b[K\rremote: Counting objects:  37% (30/79)\u001b[K\rremote: Counting objects:  39% (31/79)\u001b[K\rremote: Counting objects:  40% (32/79)\u001b[K\rremote: Counting objects:  41% (33/79)\u001b[K\rremote: Counting objects:  43% (34/79)\u001b[K\rremote: Counting objects:  44% (35/79)\u001b[K\rremote: Counting objects:  45% (36/79)\u001b[K\rremote: Counting objects:  46% (37/79)\u001b[K\rremote: Counting objects:  48% (38/79)\u001b[K\rremote: Counting objects:  49% (39/79)\u001b[K\rremote: Counting objects:  50% (40/79)\u001b[K\rremote: Counting objects:  51% (41/79)\u001b[K\rremote: Counting objects:  53% (42/79)\u001b[K\rremote: Counting objects:  54% (43/79)\u001b[K\rremote: Counting objects:  55% (44/79)\u001b[K\rremote: Counting objects:  56% (45/79)\u001b[K\rremote: Counting objects:  58% (46/79)\u001b[K\rremote: Counting objects:  59% (47/79)\u001b[K\rremote: Counting objects:  60% (48/79)\u001b[K\rremote: Counting objects:  62% (49/79)\u001b[K\rremote: Counting objects:  63% (50/79)\u001b[K\rremote: Counting objects:  64% (51/79)\u001b[K\rremote: Counting objects:  65% (52/79)\u001b[K\rremote: Counting objects:  67% (53/79)\u001b[K\rremote: Counting objects:  68% (54/79)\u001b[K\rremote: Counting objects:  69% (55/79)\u001b[K\rremote: Counting objects:  70% (56/79)\u001b[K\rremote: Counting objects:  72% (57/79)\u001b[K\rremote: Counting objects:  73% (58/79)\u001b[K\rremote: Counting objects:  74% (59/79)\u001b[K\rremote: Counting objects:  75% (60/79)\u001b[K\rremote: Counting objects:  77% (61/79)\u001b[K\rremote: Counting objects:  78% (62/79)\u001b[K\rremote: Counting objects:  79% (63/79)\u001b[K\rremote: Counting objects:  81% (64/79)\u001b[K\rremote: Counting objects:  82% (65/79)\u001b[K\rremote: Counting objects:  83% (66/79)\u001b[K\rremote: Counting objects:  84% (67/79)\u001b[K\rremote: Counting objects:  86% (68/79)\u001b[K\rremote: Counting objects:  87% (69/79)\u001b[K\rremote: Counting objects:  88% (70/79)\u001b[K\rremote: Counting objects:  89% (71/79)\u001b[K\rremote: Counting objects:  91% (72/79)\u001b[K\rremote: Counting objects:  92% (73/79)\u001b[K\rremote: Counting objects:  93% (74/79)\u001b[K\rremote: Counting objects:  94% (75/79)\u001b[K\rremote: Counting objects:  96% (76/79)\u001b[K\rremote: Counting objects:  97% (77/79)\u001b[K\rremote: Counting objects:  98% (78/79)\u001b[K\rremote: Counting objects: 100% (79/79)\u001b[K\rremote: Counting objects: 100% (79/79), done.\u001b[K\n",
            "remote: Compressing objects:   2% (1/45)\u001b[K\rremote: Compressing objects:   4% (2/45)\u001b[K\rremote: Compressing objects:   6% (3/45)\u001b[K\rremote: Compressing objects:   8% (4/45)\u001b[K\rremote: Compressing objects:  11% (5/45)\u001b[K\rremote: Compressing objects:  13% (6/45)\u001b[K\rremote: Compressing objects:  15% (7/45)\u001b[K\rremote: Compressing objects:  17% (8/45)\u001b[K\rremote: Compressing objects:  20% (9/45)\u001b[K\rremote: Compressing objects:  22% (10/45)\u001b[K\rremote: Compressing objects:  24% (11/45)\u001b[K\rremote: Compressing objects:  26% (12/45)\u001b[K\rremote: Compressing objects:  28% (13/45)\u001b[K\rremote: Compressing objects:  31% (14/45)\u001b[K\rremote: Compressing objects:  33% (15/45)\u001b[K\rremote: Compressing objects:  35% (16/45)\u001b[K\rremote: Compressing objects:  37% (17/45)\u001b[K\rremote: Compressing objects:  40% (18/45)\u001b[K\rremote: Compressing objects:  42% (19/45)\u001b[K\rremote: Compressing objects:  44% (20/45)\u001b[K\rremote: Compressing objects:  46% (21/45)\u001b[K\rremote: Compressing objects:  48% (22/45)\u001b[K\rremote: Compressing objects:  51% (23/45)\u001b[K\rremote: Compressing objects:  53% (24/45)\u001b[K\rremote: Compressing objects:  55% (25/45)\u001b[K\rremote: Compressing objects:  57% (26/45)\u001b[K\rremote: Compressing objects:  60% (27/45)\u001b[K\rremote: Compressing objects:  62% (28/45)\u001b[K\rremote: Compressing objects:  64% (29/45)\u001b[K\rremote: Compressing objects:  66% (30/45)\u001b[K\rremote: Compressing objects:  68% (31/45)\u001b[K\rremote: Compressing objects:  71% (32/45)\u001b[K\rremote: Compressing objects:  73% (33/45)\u001b[K\rremote: Compressing objects:  75% (34/45)\u001b[K\rremote: Compressing objects:  77% (35/45)\u001b[K\rremote: Compressing objects:  80% (36/45)\u001b[K\rremote: Compressing objects:  82% (37/45)\u001b[K\rremote: Compressing objects:  84% (38/45)\u001b[K\rremote: Compressing objects:  86% (39/45)\u001b[K\rremote: Compressing objects:  88% (40/45)\u001b[K\rremote: Compressing objects:  91% (41/45)\u001b[K\rremote: Compressing objects:  93% (42/45)\u001b[K\rremote: Compressing objects:  95% (43/45)\u001b[K\rremote: Compressing objects:  97% (44/45)\u001b[K\rremote: Compressing objects: 100% (45/45)\u001b[K\rremote: Compressing objects: 100% (45/45), done.\u001b[K\n",
            "Unpacking objects:   1% (1/79)   \rUnpacking objects:   2% (2/79)   \rUnpacking objects:   3% (3/79)   \rUnpacking objects:   5% (4/79)   \rUnpacking objects:   6% (5/79)   \rUnpacking objects:   7% (6/79)   \rUnpacking objects:   8% (7/79)   \rUnpacking objects:  10% (8/79)   \rUnpacking objects:  11% (9/79)   \rUnpacking objects:  12% (10/79)   \rUnpacking objects:  13% (11/79)   \rUnpacking objects:  15% (12/79)   \rUnpacking objects:  16% (13/79)   \rUnpacking objects:  17% (14/79)   \rUnpacking objects:  18% (15/79)   \rUnpacking objects:  20% (16/79)   \rUnpacking objects:  21% (17/79)   \rUnpacking objects:  22% (18/79)   \rUnpacking objects:  24% (19/79)   \rUnpacking objects:  25% (20/79)   \rUnpacking objects:  26% (21/79)   \rUnpacking objects:  27% (22/79)   \rUnpacking objects:  29% (23/79)   \rUnpacking objects:  30% (24/79)   \rUnpacking objects:  31% (25/79)   \rUnpacking objects:  32% (26/79)   \rUnpacking objects:  34% (27/79)   \rUnpacking objects:  35% (28/79)   \rUnpacking objects:  36% (29/79)   \rUnpacking objects:  37% (30/79)   \rUnpacking objects:  39% (31/79)   \rUnpacking objects:  40% (32/79)   \rUnpacking objects:  41% (33/79)   \rUnpacking objects:  43% (34/79)   \rUnpacking objects:  44% (35/79)   \rUnpacking objects:  45% (36/79)   \rremote: Total 79 (delta 37), reused 74 (delta 32), pack-reused 0\u001b[K\n",
            "Unpacking objects:  46% (37/79)   \rUnpacking objects:  48% (38/79)   \rUnpacking objects:  49% (39/79)   \rUnpacking objects:  50% (40/79)   \rUnpacking objects:  51% (41/79)   \rUnpacking objects:  53% (42/79)   \rUnpacking objects:  54% (43/79)   \rUnpacking objects:  55% (44/79)   \rUnpacking objects:  56% (45/79)   \rUnpacking objects:  58% (46/79)   \rUnpacking objects:  59% (47/79)   \rUnpacking objects:  60% (48/79)   \rUnpacking objects:  62% (49/79)   \rUnpacking objects:  63% (50/79)   \rUnpacking objects:  64% (51/79)   \rUnpacking objects:  65% (52/79)   \rUnpacking objects:  67% (53/79)   \rUnpacking objects:  68% (54/79)   \rUnpacking objects:  69% (55/79)   \rUnpacking objects:  70% (56/79)   \rUnpacking objects:  72% (57/79)   \rUnpacking objects:  73% (58/79)   \rUnpacking objects:  74% (59/79)   \rUnpacking objects:  75% (60/79)   \rUnpacking objects:  77% (61/79)   \rUnpacking objects:  78% (62/79)   \rUnpacking objects:  79% (63/79)   \rUnpacking objects:  81% (64/79)   \rUnpacking objects:  82% (65/79)   \rUnpacking objects:  83% (66/79)   \rUnpacking objects:  84% (67/79)   \rUnpacking objects:  86% (68/79)   \rUnpacking objects:  87% (69/79)   \rUnpacking objects:  88% (70/79)   \rUnpacking objects:  89% (71/79)   \rUnpacking objects:  91% (72/79)   \rUnpacking objects:  92% (73/79)   \rUnpacking objects:  93% (74/79)   \rUnpacking objects:  94% (75/79)   \rUnpacking objects:  96% (76/79)   \rUnpacking objects:  97% (77/79)   \rUnpacking objects:  98% (78/79)   \rUnpacking objects: 100% (79/79)   \rUnpacking objects: 100% (79/79), done.\n"
          ],
          "name": "stdout"
        }
      ]
    },
    {
      "cell_type": "code",
      "metadata": {
        "id": "S1gwEcG3-HLG",
        "colab_type": "code",
        "outputId": "412a4f9e-7df1-471e-cfc8-247648e0c5ae",
        "colab": {
          "base_uri": "https://localhost:8080/",
          "height": 1000
        }
      },
      "source": [
        "!pip install -r /content/bert-crf4NER/requirements.txt"
      ],
      "execution_count": 2,
      "outputs": [
        {
          "output_type": "stream",
          "text": [
            "Collecting transformers==2.3.0\n",
            "\u001b[?25l  Downloading https://files.pythonhosted.org/packages/50/10/aeefced99c8a59d828a92cc11d213e2743212d3641c87c82d61b035a7d5c/transformers-2.3.0-py3-none-any.whl (447kB)\n",
            "\u001b[K     |████████████████████████████████| 450kB 3.4MB/s \n",
            "\u001b[?25hCollecting pytorch-crf==0.7.2\n",
            "  Downloading https://files.pythonhosted.org/packages/96/7d/4c4688e26ea015fc118a0327e5726e6596836abce9182d3738be8ec2e32a/pytorch_crf-0.7.2-py3-none-any.whl\n",
            "Collecting nltk==3.4.5\n",
            "\u001b[?25l  Downloading https://files.pythonhosted.org/packages/f6/1d/d925cfb4f324ede997f6d47bea4d9babba51b49e87a767c170b77005889d/nltk-3.4.5.zip (1.5MB)\n",
            "\u001b[K     |████████████████████████████████| 1.5MB 32.2MB/s \n",
            "\u001b[?25hCollecting spacy==2.2.3\n",
            "\u001b[?25l  Downloading https://files.pythonhosted.org/packages/47/13/80ad28ef7a16e2a86d16d73e28588be5f1085afd3e85e4b9b912bd700e8a/spacy-2.2.3-cp36-cp36m-manylinux1_x86_64.whl (10.4MB)\n",
            "\u001b[K     |████████████████████████████████| 10.4MB 43.8MB/s \n",
            "\u001b[?25hCollecting sentencepiece\n",
            "\u001b[?25l  Downloading https://files.pythonhosted.org/packages/74/f4/2d5214cbf13d06e7cb2c20d84115ca25b53ea76fa1f0ade0e3c9749de214/sentencepiece-0.1.85-cp36-cp36m-manylinux1_x86_64.whl (1.0MB)\n",
            "\u001b[K     |████████████████████████████████| 1.0MB 54.0MB/s \n",
            "\u001b[?25hRequirement already satisfied: regex!=2019.12.17 in /usr/local/lib/python3.6/dist-packages (from transformers==2.3.0->-r /content/bert-crf4NER/requirements.txt (line 1)) (2019.12.20)\n",
            "Requirement already satisfied: requests in /usr/local/lib/python3.6/dist-packages (from transformers==2.3.0->-r /content/bert-crf4NER/requirements.txt (line 1)) (2.21.0)\n",
            "Collecting sacremoses\n",
            "\u001b[?25l  Downloading https://files.pythonhosted.org/packages/a6/b4/7a41d630547a4afd58143597d5a49e07bfd4c42914d8335b2a5657efc14b/sacremoses-0.0.38.tar.gz (860kB)\n",
            "\u001b[K     |████████████████████████████████| 870kB 49.5MB/s \n",
            "\u001b[?25hRequirement already satisfied: numpy in /usr/local/lib/python3.6/dist-packages (from transformers==2.3.0->-r /content/bert-crf4NER/requirements.txt (line 1)) (1.17.5)\n",
            "Requirement already satisfied: tqdm in /usr/local/lib/python3.6/dist-packages (from transformers==2.3.0->-r /content/bert-crf4NER/requirements.txt (line 1)) (4.28.1)\n",
            "Requirement already satisfied: boto3 in /usr/local/lib/python3.6/dist-packages (from transformers==2.3.0->-r /content/bert-crf4NER/requirements.txt (line 1)) (1.10.47)\n",
            "Requirement already satisfied: six in /usr/local/lib/python3.6/dist-packages (from nltk==3.4.5->-r /content/bert-crf4NER/requirements.txt (line 3)) (1.12.0)\n",
            "Requirement already satisfied: plac<1.2.0,>=0.9.6 in /usr/local/lib/python3.6/dist-packages (from spacy==2.2.3->-r /content/bert-crf4NER/requirements.txt (line 4)) (0.9.6)\n",
            "Requirement already satisfied: srsly<1.1.0,>=0.1.0 in /usr/local/lib/python3.6/dist-packages (from spacy==2.2.3->-r /content/bert-crf4NER/requirements.txt (line 4)) (1.0.1)\n",
            "Requirement already satisfied: cymem<2.1.0,>=2.0.2 in /usr/local/lib/python3.6/dist-packages (from spacy==2.2.3->-r /content/bert-crf4NER/requirements.txt (line 4)) (2.0.3)\n",
            "Collecting blis<0.5.0,>=0.4.0\n",
            "\u001b[?25l  Downloading https://files.pythonhosted.org/packages/41/19/f95c75562d18eb27219df3a3590b911e78d131b68466ad79fdf5847eaac4/blis-0.4.1-cp36-cp36m-manylinux1_x86_64.whl (3.7MB)\n",
            "\u001b[K     |████████████████████████████████| 3.7MB 44.0MB/s \n",
            "\u001b[?25hCollecting preshed<3.1.0,>=3.0.2\n",
            "\u001b[?25l  Downloading https://files.pythonhosted.org/packages/db/6b/e07fad36913879757c90ba03d6fb7f406f7279e11dcefc105ee562de63ea/preshed-3.0.2-cp36-cp36m-manylinux1_x86_64.whl (119kB)\n",
            "\u001b[K     |████████████████████████████████| 122kB 29.0MB/s \n",
            "\u001b[?25hRequirement already satisfied: wasabi<1.1.0,>=0.4.0 in /usr/local/lib/python3.6/dist-packages (from spacy==2.2.3->-r /content/bert-crf4NER/requirements.txt (line 4)) (0.6.0)\n",
            "Collecting catalogue<1.1.0,>=0.0.7\n",
            "  Downloading https://files.pythonhosted.org/packages/6c/f9/9a5658e2f56932e41eb264941f9a2cb7f3ce41a80cb36b2af6ab78e2f8af/catalogue-1.0.0-py2.py3-none-any.whl\n",
            "Requirement already satisfied: murmurhash<1.1.0,>=0.28.0 in /usr/local/lib/python3.6/dist-packages (from spacy==2.2.3->-r /content/bert-crf4NER/requirements.txt (line 4)) (1.0.2)\n",
            "Requirement already satisfied: setuptools in /usr/local/lib/python3.6/dist-packages (from spacy==2.2.3->-r /content/bert-crf4NER/requirements.txt (line 4)) (42.0.2)\n",
            "Collecting thinc<7.4.0,>=7.3.0\n",
            "\u001b[?25l  Downloading https://files.pythonhosted.org/packages/07/59/6bb553bc9a5f072d3cd479fc939fea0f6f682892f1f5cff98de5c9b615bb/thinc-7.3.1-cp36-cp36m-manylinux1_x86_64.whl (2.2MB)\n",
            "\u001b[K     |████████████████████████████████| 2.2MB 59.4MB/s \n",
            "\u001b[?25hRequirement already satisfied: idna<2.9,>=2.5 in /usr/local/lib/python3.6/dist-packages (from requests->transformers==2.3.0->-r /content/bert-crf4NER/requirements.txt (line 1)) (2.8)\n",
            "Requirement already satisfied: urllib3<1.25,>=1.21.1 in /usr/local/lib/python3.6/dist-packages (from requests->transformers==2.3.0->-r /content/bert-crf4NER/requirements.txt (line 1)) (1.24.3)\n",
            "Requirement already satisfied: certifi>=2017.4.17 in /usr/local/lib/python3.6/dist-packages (from requests->transformers==2.3.0->-r /content/bert-crf4NER/requirements.txt (line 1)) (2019.11.28)\n",
            "Requirement already satisfied: chardet<3.1.0,>=3.0.2 in /usr/local/lib/python3.6/dist-packages (from requests->transformers==2.3.0->-r /content/bert-crf4NER/requirements.txt (line 1)) (3.0.4)\n",
            "Requirement already satisfied: click in /usr/local/lib/python3.6/dist-packages (from sacremoses->transformers==2.3.0->-r /content/bert-crf4NER/requirements.txt (line 1)) (7.0)\n",
            "Requirement already satisfied: joblib in /usr/local/lib/python3.6/dist-packages (from sacremoses->transformers==2.3.0->-r /content/bert-crf4NER/requirements.txt (line 1)) (0.14.1)\n",
            "Requirement already satisfied: s3transfer<0.3.0,>=0.2.0 in /usr/local/lib/python3.6/dist-packages (from boto3->transformers==2.3.0->-r /content/bert-crf4NER/requirements.txt (line 1)) (0.2.1)\n",
            "Requirement already satisfied: botocore<1.14.0,>=1.13.47 in /usr/local/lib/python3.6/dist-packages (from boto3->transformers==2.3.0->-r /content/bert-crf4NER/requirements.txt (line 1)) (1.13.47)\n",
            "Requirement already satisfied: jmespath<1.0.0,>=0.7.1 in /usr/local/lib/python3.6/dist-packages (from boto3->transformers==2.3.0->-r /content/bert-crf4NER/requirements.txt (line 1)) (0.9.4)\n",
            "Requirement already satisfied: importlib-metadata>=0.20; python_version < \"3.8\" in /usr/local/lib/python3.6/dist-packages (from catalogue<1.1.0,>=0.0.7->spacy==2.2.3->-r /content/bert-crf4NER/requirements.txt (line 4)) (1.3.0)\n",
            "Requirement already satisfied: docutils<0.16,>=0.10 in /usr/local/lib/python3.6/dist-packages (from botocore<1.14.0,>=1.13.47->boto3->transformers==2.3.0->-r /content/bert-crf4NER/requirements.txt (line 1)) (0.15.2)\n",
            "Requirement already satisfied: python-dateutil<3.0.0,>=2.1; python_version >= \"2.7\" in /usr/local/lib/python3.6/dist-packages (from botocore<1.14.0,>=1.13.47->boto3->transformers==2.3.0->-r /content/bert-crf4NER/requirements.txt (line 1)) (2.6.1)\n",
            "Requirement already satisfied: zipp>=0.5 in /usr/local/lib/python3.6/dist-packages (from importlib-metadata>=0.20; python_version < \"3.8\"->catalogue<1.1.0,>=0.0.7->spacy==2.2.3->-r /content/bert-crf4NER/requirements.txt (line 4)) (0.6.0)\n",
            "Requirement already satisfied: more-itertools in /usr/local/lib/python3.6/dist-packages (from zipp>=0.5->importlib-metadata>=0.20; python_version < \"3.8\"->catalogue<1.1.0,>=0.0.7->spacy==2.2.3->-r /content/bert-crf4NER/requirements.txt (line 4)) (8.0.2)\n",
            "Building wheels for collected packages: nltk, sacremoses\n",
            "  Building wheel for nltk (setup.py) ... \u001b[?25l\u001b[?25hdone\n",
            "  Created wheel for nltk: filename=nltk-3.4.5-cp36-none-any.whl size=1449906 sha256=a1017bb504c7cc1b5d41ad6f46deb1ab04d629550df6ba8e159f33fe44adc535\n",
            "  Stored in directory: /root/.cache/pip/wheels/96/86/f6/68ab24c23f207c0077381a5e3904b2815136b879538a24b483\n",
            "  Building wheel for sacremoses (setup.py) ... \u001b[?25l\u001b[?25hdone\n",
            "  Created wheel for sacremoses: filename=sacremoses-0.0.38-cp36-none-any.whl size=884629 sha256=9fbbad1f9ca02f1ce8a381739f60033b3d5989f3c85d363385385b479f7c6371\n",
            "  Stored in directory: /root/.cache/pip/wheels/6d/ec/1a/21b8912e35e02741306f35f66c785f3afe94de754a0eaf1422\n",
            "Successfully built nltk sacremoses\n",
            "Installing collected packages: sentencepiece, sacremoses, transformers, pytorch-crf, nltk, blis, preshed, catalogue, thinc, spacy\n",
            "  Found existing installation: nltk 3.2.5\n",
            "    Uninstalling nltk-3.2.5:\n",
            "      Successfully uninstalled nltk-3.2.5\n",
            "  Found existing installation: blis 0.2.4\n",
            "    Uninstalling blis-0.2.4:\n",
            "      Successfully uninstalled blis-0.2.4\n",
            "  Found existing installation: preshed 2.0.1\n",
            "    Uninstalling preshed-2.0.1:\n",
            "      Successfully uninstalled preshed-2.0.1\n",
            "  Found existing installation: thinc 7.0.8\n",
            "    Uninstalling thinc-7.0.8:\n",
            "      Successfully uninstalled thinc-7.0.8\n",
            "  Found existing installation: spacy 2.1.9\n",
            "    Uninstalling spacy-2.1.9:\n",
            "      Successfully uninstalled spacy-2.1.9\n",
            "Successfully installed blis-0.4.1 catalogue-1.0.0 nltk-3.4.5 preshed-3.0.2 pytorch-crf-0.7.2 sacremoses-0.0.38 sentencepiece-0.1.85 spacy-2.2.3 thinc-7.3.1 transformers-2.3.0\n"
          ],
          "name": "stdout"
        }
      ]
    },
    {
      "cell_type": "code",
      "metadata": {
        "id": "RNAsTNX9-Al-",
        "colab_type": "code",
        "outputId": "f86d5257-259e-45a3-a7fd-4a5bfae17ede",
        "colab": {
          "base_uri": "https://localhost:8080/",
          "height": 34
        }
      },
      "source": [
        "%cd /content/bert-crf4NER/bert-crf4NER"
      ],
      "execution_count": 3,
      "outputs": [
        {
          "output_type": "stream",
          "text": [
            "/content/bert-crf4NER/bert-crf4NER\n"
          ],
          "name": "stdout"
        }
      ]
    },
    {
      "cell_type": "code",
      "metadata": {
        "id": "LFW7yKMgAss_",
        "colab_type": "code",
        "outputId": "c7c37fc8-f78d-4090-c808-f56ac05af13e",
        "colab": {
          "base_uri": "https://localhost:8080/",
          "height": 1000
        }
      },
      "source": [
        "!python bert_crf.py --mode train"
      ],
      "execution_count": 6,
      "outputs": [
        {
          "output_type": "stream",
          "text": [
            "\rEpoch:   0% 0/5 [00:00<?, ?it/s]\n",
            "2020-01-13 10:33:39.917242 Step: 1 of 937 Loss: 41.960587\n",
            "2020-01-13 10:33:56.197392 Step: 100 of 937 Loss: 0.769121\n",
            "2020-01-13 10:34:12.533149 Step: 200 of 937 Loss: 0.229093\n",
            "2020-01-13 10:34:29.671927 Step: 300 of 937 Loss: 0.196178\n",
            "2020-01-13 10:34:46.328172 Step: 400 of 937 Loss: 0.163431\n",
            "2020-01-13 10:35:03.127328 Step: 500 of 937 Loss: 0.158321\n",
            "2020-01-13 10:35:20.642653 Step: 600 of 937 Loss: 0.137048\n",
            "2020-01-13 10:35:37.849691 Step: 700 of 937 Loss: 0.123388\n",
            "2020-01-13 10:35:55.027067 Step: 800 of 937 Loss: 0.117425\n",
            "2020-01-13 10:36:11.808617 Step: 900 of 937 Loss: 0.114312\n",
            "Training Loss: 2.183919 for epoch 0\n",
            "Epoch:  0\n",
            "processed 55042 tokens with 5942 phrases; found: 6008 phrases; correct: 5339.\n",
            "accuracy:  91.50%; (non-O)\n",
            "accuracy:  98.28%; precision:  88.86%; recall:  89.85%; FB1:  89.36%\n",
            "              LOC: precision:  94.04%; recall:  91.83%; FB1:  92.92%  1794\n",
            "             MISC: precision:  83.20%; recall:  81.67%; FB1:  82.43%  905\n",
            "              ORG: precision:  78.29%; recall:  86.06%; FB1:  81.99%  1474\n",
            "              PER: precision:  95.10%; recall:  94.73%; FB1:  94.91%  1835\n",
            "\n",
            "Epoch:  20% 1/5 [03:03<12:12, 183.08s/it]\n",
            "2020-01-13 10:36:42.968843 Step: 1 of 937 Loss: 0.876226\n",
            "2020-01-13 10:36:59.113915 Step: 100 of 937 Loss: 0.068321\n",
            "2020-01-13 10:37:16.286508 Step: 200 of 937 Loss: 0.063781\n",
            "2020-01-13 10:37:32.423954 Step: 300 of 937 Loss: 0.058192\n",
            "2020-01-13 10:37:49.081694 Step: 400 of 937 Loss: 0.069765\n",
            "2020-01-13 10:38:05.966481 Step: 500 of 937 Loss: 0.061978\n",
            "2020-01-13 10:38:23.114739 Step: 600 of 937 Loss: 0.066180\n",
            "2020-01-13 10:38:39.883233 Step: 700 of 937 Loss: 0.054332\n",
            "2020-01-13 10:38:56.354776 Step: 800 of 937 Loss: 0.057666\n",
            "2020-01-13 10:39:13.265726 Step: 900 of 937 Loss: 0.058431\n",
            "Training Loss: 0.613197 for epoch 1\n",
            "Epoch:  1\n",
            "processed 55042 tokens with 5942 phrases; found: 6012 phrases; correct: 5433.\n",
            "accuracy:  92.84%; (non-O)\n",
            "accuracy:  98.52%; precision:  90.37%; recall:  91.43%; FB1:  90.90%\n",
            "              LOC: precision:  94.25%; recall:  93.63%; FB1:  93.94%  1825\n",
            "             MISC: precision:  83.62%; recall:  84.16%; FB1:  83.89%  928\n",
            "              ORG: precision:  82.29%; recall:  89.04%; FB1:  85.53%  1451\n",
            "              PER: precision:  96.40%; recall:  94.63%; FB1:  95.51%  1808\n",
            "\n",
            "Epoch:  40% 2/5 [06:04<09:07, 182.44s/it]\n",
            "2020-01-13 10:39:43.912463 Step: 1 of 937 Loss: 0.270739\n",
            "2020-01-13 10:40:00.371593 Step: 100 of 937 Loss: 0.030871\n",
            "2020-01-13 10:40:17.182661 Step: 200 of 937 Loss: 0.032623\n",
            "2020-01-13 10:40:33.817936 Step: 300 of 937 Loss: 0.024626\n",
            "2020-01-13 10:40:50.658999 Step: 400 of 937 Loss: 0.028300\n",
            "2020-01-13 10:41:08.287152 Step: 500 of 937 Loss: 0.030469\n",
            "2020-01-13 10:41:25.208680 Step: 600 of 937 Loss: 0.031025\n",
            "2020-01-13 10:41:42.386381 Step: 700 of 937 Loss: 0.026207\n",
            "2020-01-13 10:41:58.654923 Step: 800 of 937 Loss: 0.027317\n",
            "2020-01-13 10:42:15.413523 Step: 900 of 937 Loss: 0.030310\n",
            "Training Loss: 0.288895 for epoch 2\n",
            "Epoch:  2\n",
            "processed 55042 tokens with 5942 phrases; found: 5964 phrases; correct: 5446.\n",
            "accuracy:  92.44%; (non-O)\n",
            "accuracy:  98.58%; precision:  91.31%; recall:  91.65%; FB1:  91.48%\n",
            "              LOC: precision:  94.22%; recall:  94.01%; FB1:  94.11%  1833\n",
            "             MISC: precision:  83.99%; recall:  85.90%; FB1:  84.93%  943\n",
            "              ORG: precision:  85.67%; recall:  86.95%; FB1:  86.31%  1361\n",
            "              PER: precision:  96.39%; recall:  95.60%; FB1:  95.99%  1827\n",
            "\n",
            "Epoch:  60% 3/5 [09:06<06:04, 182.49s/it]\n",
            "2020-01-13 10:42:46.456527 Step: 1 of 937 Loss: 0.021444\n",
            "2020-01-13 10:43:03.182672 Step: 100 of 937 Loss: 0.016224\n",
            "2020-01-13 10:43:19.883224 Step: 200 of 937 Loss: 0.015751\n",
            "2020-01-13 10:43:36.840534 Step: 300 of 937 Loss: 0.015531\n",
            "2020-01-13 10:43:53.394522 Step: 400 of 937 Loss: 0.015622\n",
            "2020-01-13 10:44:10.041539 Step: 500 of 937 Loss: 0.012960\n",
            "2020-01-13 10:44:26.772434 Step: 600 of 937 Loss: 0.015709\n",
            "2020-01-13 10:44:43.646195 Step: 700 of 937 Loss: 0.014166\n",
            "2020-01-13 10:45:00.460889 Step: 800 of 937 Loss: 0.017283\n",
            "2020-01-13 10:45:17.286892 Step: 900 of 937 Loss: 0.013174\n",
            "Training Loss: 0.153086 for epoch 3\n",
            "Epoch:  3\n",
            "processed 55042 tokens with 5942 phrases; found: 5969 phrases; correct: 5451.\n",
            "accuracy:  92.68%; (non-O)\n",
            "accuracy:  98.61%; precision:  91.32%; recall:  91.74%; FB1:  91.53%\n",
            "              LOC: precision:  92.75%; recall:  95.43%; FB1:  94.07%  1890\n",
            "             MISC: precision:  83.92%; recall:  86.01%; FB1:  84.95%  945\n",
            "              ORG: precision:  88.29%; recall:  84.86%; FB1:  86.54%  1289\n",
            "              PER: precision:  95.77%; recall:  95.93%; FB1:  95.85%  1845\n",
            "\n",
            "Epoch:  80% 4/5 [12:08<03:02, 182.33s/it]\n",
            "2020-01-13 10:45:48.407011 Step: 1 of 937 Loss: 0.218812\n",
            "2020-01-13 10:46:04.725917 Step: 100 of 937 Loss: 0.011936\n",
            "2020-01-13 10:46:21.323174 Step: 200 of 937 Loss: 0.007338\n",
            "2020-01-13 10:46:38.234697 Step: 300 of 937 Loss: 0.006338\n",
            "2020-01-13 10:46:55.464371 Step: 400 of 937 Loss: 0.009273\n",
            "2020-01-13 10:47:12.068782 Step: 500 of 937 Loss: 0.006679\n",
            "2020-01-13 10:47:29.097375 Step: 600 of 937 Loss: 0.010765\n",
            "2020-01-13 10:47:45.979043 Step: 700 of 937 Loss: 0.008259\n",
            "2020-01-13 10:48:02.426271 Step: 800 of 937 Loss: 0.006517\n",
            "2020-01-13 10:48:19.492358 Step: 900 of 937 Loss: 0.008345\n",
            "Training Loss: 0.083730 for epoch 4\n",
            "Epoch:  4\n",
            "processed 55042 tokens with 5942 phrases; found: 5981 phrases; correct: 5488.\n",
            "accuracy:  93.15%; (non-O)\n",
            "accuracy:  98.66%; precision:  91.76%; recall:  92.36%; FB1:  92.06%\n",
            "              LOC: precision:  94.01%; recall:  94.83%; FB1:  94.42%  1853\n",
            "             MISC: precision:  86.33%; recall:  86.33%; FB1:  86.33%  922\n",
            "              ORG: precision:  86.72%; recall:  87.62%; FB1:  87.17%  1355\n",
            "              PER: precision:  95.89%; recall:  96.36%; FB1:  96.13%  1851\n",
            "\n",
            "Epoch: 100% 5/5 [15:10<00:00, 182.18s/it]\n",
            "Total training time:  910.4130763540002\n",
            "<Figure size 640x480 with 1 Axes>\n"
          ],
          "name": "stdout"
        }
      ]
    },
    {
      "cell_type": "code",
      "metadata": {
        "id": "RhHlRqfc0SP_",
        "colab_type": "code",
        "outputId": "c8886a2b-df9f-46ff-cb23-ea465d6dbf51",
        "colab": {
          "base_uri": "https://localhost:8080/",
          "height": 170
        }
      },
      "source": [
        "!python bert_crf.py --mode test"
      ],
      "execution_count": 7,
      "outputs": [
        {
          "output_type": "stream",
          "text": [
            "test len:  217\n",
            "processed 55042 tokens with 5942 phrases; found: 5981 phrases; correct: 5488.\n",
            "accuracy:  93.15%; (non-O)\n",
            "accuracy:  98.66%; precision:  91.76%; recall:  92.36%; FB1:  92.06%\n",
            "              LOC: precision:  94.01%; recall:  94.83%; FB1:  94.42%  1853\n",
            "             MISC: precision:  86.33%; recall:  86.33%; FB1:  86.33%  922\n",
            "              ORG: precision:  86.72%; recall:  87.62%; FB1:  87.17%  1355\n",
            "              PER: precision:  95.89%; recall:  96.36%; FB1:  96.13%  1851\n",
            "\n"
          ],
          "name": "stdout"
        }
      ]
    }
  ]
}